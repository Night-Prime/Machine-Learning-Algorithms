{
 "cells": [
  {
   "cell_type": "code",
   "execution_count": 4,
   "metadata": {},
   "outputs": [
    {
     "name": "stderr",
     "output_type": "stream",
     "text": [
      "2023-03-19 17:06:43.300185: I tensorflow/core/platform/cpu_feature_guard.cc:193] This TensorFlow binary is optimized with oneAPI Deep Neural Network Library (oneDNN) to use the following CPU instructions in performance-critical operations:  AVX2 FMA\n",
      "To enable them in other operations, rebuild TensorFlow with the appropriate compiler flags.\n"
     ]
    },
    {
     "data": {
      "text/html": [
       "<div>\n",
       "<style scoped>\n",
       "    .dataframe tbody tr th:only-of-type {\n",
       "        vertical-align: middle;\n",
       "    }\n",
       "\n",
       "    .dataframe tbody tr th {\n",
       "        vertical-align: top;\n",
       "    }\n",
       "\n",
       "    .dataframe thead th {\n",
       "        text-align: right;\n",
       "    }\n",
       "</style>\n",
       "<table border=\"1\" class=\"dataframe\">\n",
       "  <thead>\n",
       "    <tr style=\"text-align: right;\">\n",
       "      <th></th>\n",
       "      <th>SepalLength</th>\n",
       "      <th>SepalWidth</th>\n",
       "      <th>PetalLength</th>\n",
       "      <th>PetalWidth</th>\n",
       "    </tr>\n",
       "  </thead>\n",
       "  <tbody>\n",
       "    <tr>\n",
       "      <th>0</th>\n",
       "      <td>6.4</td>\n",
       "      <td>2.8</td>\n",
       "      <td>5.6</td>\n",
       "      <td>2.2</td>\n",
       "    </tr>\n",
       "    <tr>\n",
       "      <th>1</th>\n",
       "      <td>5.0</td>\n",
       "      <td>2.3</td>\n",
       "      <td>3.3</td>\n",
       "      <td>1.0</td>\n",
       "    </tr>\n",
       "    <tr>\n",
       "      <th>2</th>\n",
       "      <td>4.9</td>\n",
       "      <td>2.5</td>\n",
       "      <td>4.5</td>\n",
       "      <td>1.7</td>\n",
       "    </tr>\n",
       "    <tr>\n",
       "      <th>3</th>\n",
       "      <td>4.9</td>\n",
       "      <td>3.1</td>\n",
       "      <td>1.5</td>\n",
       "      <td>0.1</td>\n",
       "    </tr>\n",
       "    <tr>\n",
       "      <th>4</th>\n",
       "      <td>5.7</td>\n",
       "      <td>3.8</td>\n",
       "      <td>1.7</td>\n",
       "      <td>0.3</td>\n",
       "    </tr>\n",
       "  </tbody>\n",
       "</table>\n",
       "</div>"
      ],
      "text/plain": [
       "   SepalLength  SepalWidth  PetalLength  PetalWidth\n",
       "0          6.4         2.8          5.6         2.2\n",
       "1          5.0         2.3          3.3         1.0\n",
       "2          4.9         2.5          4.5         1.7\n",
       "3          4.9         3.1          1.5         0.1\n",
       "4          5.7         3.8          1.7         0.3"
      ]
     },
     "execution_count": 4,
     "metadata": {},
     "output_type": "execute_result"
    }
   ],
   "source": [
    "import pandas as pd\n",
    "import tensorflow as tf\n",
    "\n",
    "# Note: Classification is an example of supervised Learning \n",
    "\n",
    "# Defining constants we'd be needing for the Datasets\n",
    "CSV_COLUMN_NAMES = ['SepalLength', 'SepalWidth', 'PetalLength', 'PetalWidth', 'Species']\n",
    "SPECIES = ['Setosa', 'Versicolor', 'Virginica']\n",
    "\n",
    "# Keras used here to input the Datasets in to panda dataframe\n",
    "train_path = tf.keras.utils.get_file(\"iris_training.csv\", './data/iris_training.csv')\n",
    "test_path = tf.keras.utils.get_file(\"iris_test.csv\", './data/iris_test.csv')\n",
    "\n",
    "train = pd.read_csv(train_path, names=CSV_COLUMN_NAMES, header=0)\n",
    "test = pd.read_csv(test_path, names=CSV_COLUMN_NAMES, header=0)\n",
    "\n",
    "train_y = train.pop('Species')\n",
    "test_y = test.pop('Species')\n",
    "\n",
    "# displaying the first few data\n",
    "train.head()\n"
   ]
  },
  {
   "cell_type": "code",
   "execution_count": 5,
   "metadata": {},
   "outputs": [],
   "source": [
    "# Training the Model\n",
    "def input_fn(features, labels, training=True, batch_size=256): \n",
    "    #convert the input into Dataset.\n",
    "    dataset = tf.data.Dataset.from_tensor_slices((dict(features), labels))\n",
    "    \n",
    "    # shuffle the data when in training mode\n",
    "    if training:\n",
    "        dataset = dataset.shuffle(1000).repeat()\n",
    "    return dataset.batch(batch_size)"
   ]
  },
  {
   "cell_type": "code",
   "execution_count": 6,
   "metadata": {},
   "outputs": [],
   "source": [
    "# work on feature columns\n",
    "my_feature_columns = []\n",
    "for key in train.keys():\n",
    "    my_feature_columns.append(tf.feature_column.numeric_column(key=key))"
   ]
  },
  {
   "cell_type": "code",
   "execution_count": 7,
   "metadata": {},
   "outputs": [
    {
     "name": "stdout",
     "output_type": "stream",
     "text": [
      "INFO:tensorflow:Using default config.\n",
      "WARNING:tensorflow:Using temporary folder as model directory: /var/folders/yk/tx8wdy0n7vn_khcwz18g1d8w0000gn/T/tmpu4e37v2y\n",
      "INFO:tensorflow:Using config: {'_model_dir': '/var/folders/yk/tx8wdy0n7vn_khcwz18g1d8w0000gn/T/tmpu4e37v2y', '_tf_random_seed': None, '_save_summary_steps': 100, '_save_checkpoints_steps': None, '_save_checkpoints_secs': 600, '_session_config': allow_soft_placement: true\n",
      "graph_options {\n",
      "  rewrite_options {\n",
      "    meta_optimizer_iterations: ONE\n",
      "  }\n",
      "}\n",
      ", '_keep_checkpoint_max': 5, '_keep_checkpoint_every_n_hours': 10000, '_log_step_count_steps': 100, '_train_distribute': None, '_device_fn': None, '_protocol': None, '_eval_distribute': None, '_experimental_distribute': None, '_experimental_max_worker_delay_secs': None, '_session_creation_timeout_secs': 7200, '_checkpoint_save_graph_def': True, '_service': None, '_cluster_spec': ClusterSpec({}), '_task_type': 'worker', '_task_id': 0, '_global_id_in_cluster': 0, '_master': '', '_evaluation_master': '', '_is_chief': True, '_num_ps_replicas': 0, '_num_worker_replicas': 1}\n"
     ]
    },
    {
     "name": "stderr",
     "output_type": "stream",
     "text": [
      "2023-03-19 17:06:46.907696: I tensorflow/core/platform/cpu_feature_guard.cc:193] This TensorFlow binary is optimized with oneAPI Deep Neural Network Library (oneDNN) to use the following CPU instructions in performance-critical operations:  AVX2 FMA\n",
      "To enable them in other operations, rebuild TensorFlow with the appropriate compiler flags.\n"
     ]
    }
   ],
   "source": [
    "# Building the Model  -used Deep Neural Network Classifier here instead of linear classification\n",
    "classifier = tf.estimator.DNNClassifier(\n",
    "    feature_columns = my_feature_columns,\n",
    "    # introducing hidden layers -- still yet to grasp this concept\n",
    "    hidden_units = [30, 10],\n",
    "    # having the models choose between three classes\n",
    "    n_classes =3\n",
    ")\n"
   ]
  },
  {
   "cell_type": "code",
   "execution_count": 8,
   "metadata": {},
   "outputs": [
    {
     "name": "stdout",
     "output_type": "stream",
     "text": [
      "WARNING:tensorflow:From /Users/mac/Documents/Codes/Python/env/lib/python3.7/site-packages/tensorflow/python/training/training_util.py:397: Variable.initialized_value (from tensorflow.python.ops.variables) is deprecated and will be removed in a future version.\n",
      "Instructions for updating:\n",
      "Use Variable.read_value. Variables in 2.X are initialized automatically both in eager and graph (inside tf.defun) contexts.\n",
      "INFO:tensorflow:Calling model_fn.\n",
      "WARNING:tensorflow:From /Users/mac/Documents/Codes/Python/env/lib/python3.7/site-packages/keras/optimizers/optimizer_v2/adagrad.py:94: calling Constant.__init__ (from tensorflow.python.ops.init_ops) with dtype is deprecated and will be removed in a future version.\n",
      "Instructions for updating:\n",
      "Call initializer instance with the dtype argument instead of passing it to the constructor\n",
      "INFO:tensorflow:Done calling model_fn.\n",
      "INFO:tensorflow:Create CheckpointSaverHook.\n",
      "INFO:tensorflow:Graph was finalized.\n",
      "INFO:tensorflow:Running local_init_op.\n",
      "INFO:tensorflow:Done running local_init_op.\n"
     ]
    },
    {
     "name": "stderr",
     "output_type": "stream",
     "text": [
      "2023-03-19 17:06:48.153819: I tensorflow/compiler/mlir/mlir_graph_optimization_pass.cc:357] MLIR V1 optimization pass is not enabled\n",
      "2023-03-19 17:06:48.165395: W tensorflow/core/common_runtime/type_inference.cc:339] Type inference failed. This indicates an invalid graph that escaped type checking. Error message: INVALID_ARGUMENT: expected compatible input types, but input 1:\n",
      "type_id: TFT_OPTIONAL\n",
      "args {\n",
      "  type_id: TFT_PRODUCT\n",
      "  args {\n",
      "    type_id: TFT_TENSOR\n",
      "    args {\n",
      "      type_id: TFT_INT64\n",
      "    }\n",
      "  }\n",
      "}\n",
      " is neither a subtype nor a supertype of the combined inputs preceding it:\n",
      "type_id: TFT_OPTIONAL\n",
      "args {\n",
      "  type_id: TFT_PRODUCT\n",
      "  args {\n",
      "    type_id: TFT_TENSOR\n",
      "    args {\n",
      "      type_id: TFT_INT32\n",
      "    }\n",
      "  }\n",
      "}\n",
      "\n",
      "\twhile inferring type of node 'dnn/zero_fraction/cond/output/_18'\n"
     ]
    },
    {
     "name": "stdout",
     "output_type": "stream",
     "text": [
      "INFO:tensorflow:Calling checkpoint listeners before saving checkpoint 0...\n",
      "INFO:tensorflow:Saving checkpoints for 0 into /var/folders/yk/tx8wdy0n7vn_khcwz18g1d8w0000gn/T/tmpu4e37v2y/model.ckpt.\n",
      "INFO:tensorflow:Calling checkpoint listeners after saving checkpoint 0...\n",
      "INFO:tensorflow:loss = 2.627623, step = 0\n",
      "INFO:tensorflow:global_step/sec: 176.426\n",
      "INFO:tensorflow:loss = 1.3785193, step = 100 (0.570 sec)\n",
      "INFO:tensorflow:global_step/sec: 134.6\n",
      "INFO:tensorflow:loss = 1.1169624, step = 200 (0.754 sec)\n",
      "INFO:tensorflow:global_step/sec: 270.286\n",
      "INFO:tensorflow:loss = 1.0028787, step = 300 (0.369 sec)\n",
      "INFO:tensorflow:global_step/sec: 186.831\n",
      "INFO:tensorflow:loss = 0.90561485, step = 400 (0.521 sec)\n",
      "INFO:tensorflow:global_step/sec: 582.208\n",
      "INFO:tensorflow:loss = 0.8541757, step = 500 (0.174 sec)\n",
      "INFO:tensorflow:global_step/sec: 255.285\n",
      "INFO:tensorflow:loss = 0.80183053, step = 600 (0.390 sec)\n",
      "INFO:tensorflow:global_step/sec: 249.363\n",
      "INFO:tensorflow:loss = 0.7690017, step = 700 (0.405 sec)\n",
      "INFO:tensorflow:global_step/sec: 349.667\n",
      "INFO:tensorflow:loss = 0.7505577, step = 800 (0.281 sec)\n",
      "INFO:tensorflow:global_step/sec: 452.084\n",
      "INFO:tensorflow:loss = 0.7087424, step = 900 (0.224 sec)\n",
      "INFO:tensorflow:global_step/sec: 428.006\n",
      "INFO:tensorflow:loss = 0.6923001, step = 1000 (0.234 sec)\n",
      "INFO:tensorflow:global_step/sec: 447.999\n",
      "INFO:tensorflow:loss = 0.67208445, step = 1100 (0.222 sec)\n",
      "INFO:tensorflow:global_step/sec: 229.169\n",
      "INFO:tensorflow:loss = 0.673482, step = 1200 (0.437 sec)\n",
      "INFO:tensorflow:global_step/sec: 285.376\n",
      "INFO:tensorflow:loss = 0.64497286, step = 1300 (0.348 sec)\n",
      "INFO:tensorflow:global_step/sec: 483.851\n",
      "INFO:tensorflow:loss = 0.628103, step = 1400 (0.206 sec)\n",
      "INFO:tensorflow:global_step/sec: 268.066\n",
      "INFO:tensorflow:loss = 0.62215436, step = 1500 (0.373 sec)\n",
      "INFO:tensorflow:global_step/sec: 570.467\n",
      "INFO:tensorflow:loss = 0.61859494, step = 1600 (0.176 sec)\n",
      "INFO:tensorflow:global_step/sec: 612.302\n",
      "INFO:tensorflow:loss = 0.595153, step = 1700 (0.163 sec)\n",
      "INFO:tensorflow:global_step/sec: 559.437\n",
      "INFO:tensorflow:loss = 0.60235864, step = 1800 (0.179 sec)\n",
      "INFO:tensorflow:global_step/sec: 407.936\n",
      "INFO:tensorflow:loss = 0.58366734, step = 1900 (0.250 sec)\n",
      "INFO:tensorflow:global_step/sec: 213.269\n",
      "INFO:tensorflow:loss = 0.593022, step = 2000 (0.468 sec)\n",
      "INFO:tensorflow:global_step/sec: 154.206\n",
      "INFO:tensorflow:loss = 0.563612, step = 2100 (0.649 sec)\n",
      "INFO:tensorflow:global_step/sec: 177.969\n",
      "INFO:tensorflow:loss = 0.5503298, step = 2200 (0.567 sec)\n",
      "INFO:tensorflow:global_step/sec: 191.303\n",
      "INFO:tensorflow:loss = 0.5564536, step = 2300 (0.518 sec)\n",
      "INFO:tensorflow:global_step/sec: 228.585\n",
      "INFO:tensorflow:loss = 0.55680925, step = 2400 (0.432 sec)\n",
      "INFO:tensorflow:global_step/sec: 165.316\n",
      "INFO:tensorflow:loss = 0.545604, step = 2500 (0.612 sec)\n",
      "INFO:tensorflow:global_step/sec: 284.701\n",
      "INFO:tensorflow:loss = 0.5251812, step = 2600 (0.349 sec)\n",
      "INFO:tensorflow:global_step/sec: 242.51\n",
      "INFO:tensorflow:loss = 0.53625166, step = 2700 (0.410 sec)\n",
      "INFO:tensorflow:global_step/sec: 278.612\n",
      "INFO:tensorflow:loss = 0.52943194, step = 2800 (0.360 sec)\n",
      "INFO:tensorflow:global_step/sec: 375.454\n",
      "INFO:tensorflow:loss = 0.530645, step = 2900 (0.263 sec)\n",
      "INFO:tensorflow:global_step/sec: 463.76\n",
      "INFO:tensorflow:loss = 0.50558364, step = 3000 (0.216 sec)\n",
      "INFO:tensorflow:global_step/sec: 269.853\n",
      "INFO:tensorflow:loss = 0.4904518, step = 3100 (0.371 sec)\n",
      "INFO:tensorflow:global_step/sec: 534.348\n",
      "INFO:tensorflow:loss = 0.50096714, step = 3200 (0.187 sec)\n",
      "INFO:tensorflow:global_step/sec: 390.672\n",
      "INFO:tensorflow:loss = 0.48709854, step = 3300 (0.256 sec)\n",
      "INFO:tensorflow:global_step/sec: 475.778\n",
      "INFO:tensorflow:loss = 0.4732728, step = 3400 (0.216 sec)\n",
      "INFO:tensorflow:global_step/sec: 253.816\n",
      "INFO:tensorflow:loss = 0.47978905, step = 3500 (0.388 sec)\n",
      "INFO:tensorflow:global_step/sec: 250.381\n",
      "INFO:tensorflow:loss = 0.4772358, step = 3600 (0.402 sec)\n",
      "INFO:tensorflow:global_step/sec: 423.05\n",
      "INFO:tensorflow:loss = 0.4876294, step = 3700 (0.238 sec)\n",
      "INFO:tensorflow:global_step/sec: 583.649\n",
      "INFO:tensorflow:loss = 0.46803373, step = 3800 (0.168 sec)\n",
      "INFO:tensorflow:global_step/sec: 437.409\n",
      "INFO:tensorflow:loss = 0.4662615, step = 3900 (0.229 sec)\n",
      "INFO:tensorflow:global_step/sec: 421.836\n",
      "INFO:tensorflow:loss = 0.46002674, step = 4000 (0.237 sec)\n",
      "INFO:tensorflow:global_step/sec: 597.797\n",
      "INFO:tensorflow:loss = 0.44975144, step = 4100 (0.166 sec)\n",
      "INFO:tensorflow:global_step/sec: 590.346\n",
      "INFO:tensorflow:loss = 0.4567979, step = 4200 (0.171 sec)\n",
      "INFO:tensorflow:global_step/sec: 595.571\n",
      "INFO:tensorflow:loss = 0.45475018, step = 4300 (0.170 sec)\n",
      "INFO:tensorflow:global_step/sec: 585.029\n",
      "INFO:tensorflow:loss = 0.45516545, step = 4400 (0.167 sec)\n",
      "INFO:tensorflow:global_step/sec: 586.445\n",
      "INFO:tensorflow:loss = 0.444048, step = 4500 (0.173 sec)\n",
      "INFO:tensorflow:global_step/sec: 560.535\n",
      "INFO:tensorflow:loss = 0.4469732, step = 4600 (0.176 sec)\n",
      "INFO:tensorflow:global_step/sec: 435.491\n",
      "INFO:tensorflow:loss = 0.45255148, step = 4700 (0.231 sec)\n",
      "INFO:tensorflow:global_step/sec: 513.769\n",
      "INFO:tensorflow:loss = 0.43324745, step = 4800 (0.193 sec)\n",
      "INFO:tensorflow:global_step/sec: 345.577\n",
      "INFO:tensorflow:loss = 0.43270534, step = 4900 (0.292 sec)\n",
      "INFO:tensorflow:Calling checkpoint listeners before saving checkpoint 5000...\n",
      "INFO:tensorflow:Saving checkpoints for 5000 into /var/folders/yk/tx8wdy0n7vn_khcwz18g1d8w0000gn/T/tmpu4e37v2y/model.ckpt.\n",
      "INFO:tensorflow:Calling checkpoint listeners after saving checkpoint 5000...\n",
      "INFO:tensorflow:Loss for final step: 0.4275013.\n"
     ]
    },
    {
     "data": {
      "text/plain": [
       "<tensorflow_estimator.python.estimator.canned.dnn.DNNClassifierV2 at 0x7fba248c88d0>"
      ]
     },
     "execution_count": 8,
     "metadata": {},
     "output_type": "execute_result"
    }
   ],
   "source": [
    "# train the model using the classfier\n",
    "classifier.train(\n",
    "    input_fn= lambda: input_fn(train, train_y, training=True),\n",
    "    steps=5000\n",
    ")"
   ]
  },
  {
   "cell_type": "code",
   "execution_count": 9,
   "metadata": {},
   "outputs": [
    {
     "name": "stdout",
     "output_type": "stream",
     "text": [
      "INFO:tensorflow:Calling model_fn.\n",
      "INFO:tensorflow:Done calling model_fn.\n",
      "INFO:tensorflow:Starting evaluation at 2023-03-19T17:07:06\n",
      "INFO:tensorflow:Graph was finalized.\n",
      "INFO:tensorflow:Restoring parameters from /var/folders/yk/tx8wdy0n7vn_khcwz18g1d8w0000gn/T/tmpu4e37v2y/model.ckpt-5000\n",
      "INFO:tensorflow:Running local_init_op.\n",
      "INFO:tensorflow:Done running local_init_op.\n",
      "INFO:tensorflow:Inference Time : 0.99246s\n",
      "INFO:tensorflow:Finished evaluation at 2023-03-19-17:07:07\n",
      "INFO:tensorflow:Saving dict for global step 5000: accuracy = 0.6333333, average_loss = 0.52131826, global_step = 5000, loss = 0.52131826\n",
      "INFO:tensorflow:Saving 'checkpoint_path' summary for global step 5000: /var/folders/yk/tx8wdy0n7vn_khcwz18g1d8w0000gn/T/tmpu4e37v2y/model.ckpt-5000\n",
      "\n",
      " Test Accuracy: 0.633\n",
      "\n"
     ]
    }
   ],
   "source": [
    "# Testing the Accuracy of the alg.\n",
    "eval_result = classifier.evaluate(input_fn= lambda: input_fn(test, test_y, training=False))\n",
    "print('\\n Test Accuracy: {accuracy:0.3f}\\n'.format(**eval_result))"
   ]
  },
  {
   "cell_type": "code",
   "execution_count": 10,
   "metadata": {},
   "outputs": [
    {
     "name": "stdout",
     "output_type": "stream",
     "text": [
      "Please type Numeric Values as prompted: \n",
      "INFO:tensorflow:Calling model_fn.\n",
      "INFO:tensorflow:Done calling model_fn.\n",
      "INFO:tensorflow:Graph was finalized.\n",
      "INFO:tensorflow:Restoring parameters from /var/folders/yk/tx8wdy0n7vn_khcwz18g1d8w0000gn/T/tmpu4e37v2y/model.ckpt-5000\n",
      "INFO:tensorflow:Running local_init_op.\n",
      "INFO:tensorflow:Done running local_init_op.\n",
      "Prediction is \"Setosa\" (98.8%)\n"
     ]
    }
   ],
   "source": [
    "# A Predictive Model : Users inputs in the numerical feats of the Flower \n",
    "# and it predicts what class of flower it is\n",
    "\n",
    "def input_fn(features, batch_size=256):\n",
    "    # Convert the inputs to a Dataset without labels.\n",
    "    return tf.data.Dataset.from_tensor_slices(dict(features)).batch(batch_size)\n",
    "\n",
    "features = ['SepalLength', 'SepalWidth', 'PetalLength', 'PetalWidth']\n",
    "predict = {}\n",
    "\n",
    "print(\"Please type Numeric Values as prompted: \")\n",
    "for feature in features: \n",
    "    valid = True\n",
    "    while valid:\n",
    "        val  = input(feature + \": \")\n",
    "        if not val.isdigit(): valid = False\n",
    "        # placing the Numerical Inputs in here\n",
    "        predict[feature] = [float(val)]\n",
    "        \n",
    "predictions = classifier.predict(input_fn=lambda: input_fn(predict))\n",
    "# placing every prediction into dictionary\n",
    "for pred_dict in predictions:\n",
    "    class_id = pred_dict['class_ids'][0]\n",
    "    probability = pred_dict['probabilities'][class_id]\n",
    "    \n",
    "    print('Prediction is \"{}\" ({:.1f}%)'.format(\n",
    "        SPECIES[class_id], 100 * probability\n",
    "    ))"
   ]
  }
 ],
 "metadata": {
  "kernelspec": {
   "display_name": "env",
   "language": "python",
   "name": "python3"
  },
  "language_info": {
   "codemirror_mode": {
    "name": "ipython",
    "version": 3
   },
   "file_extension": ".py",
   "mimetype": "text/x-python",
   "name": "python",
   "nbconvert_exporter": "python",
   "pygments_lexer": "ipython3",
   "version": "3.7.9"
  },
  "orig_nbformat": 4
 },
 "nbformat": 4,
 "nbformat_minor": 2
}
