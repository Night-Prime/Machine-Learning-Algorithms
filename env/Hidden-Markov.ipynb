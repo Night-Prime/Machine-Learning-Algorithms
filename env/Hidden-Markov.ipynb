{
 "cells": [
  {
   "cell_type": "code",
   "execution_count": 1,
   "metadata": {},
   "outputs": [
    {
     "name": "stderr",
     "output_type": "stream",
     "text": [
      "2023-03-18 22:30:44.988864: I tensorflow/core/platform/cpu_feature_guard.cc:193] This TensorFlow binary is optimized with oneAPI Deep Neural Network Library (oneDNN) to use the following CPU instructions in performance-critical operations:  AVX2 FMA\n",
      "To enable them in other operations, rebuild TensorFlow with the appropriate compiler flags.\n"
     ]
    }
   ],
   "source": [
    "# Hidden Markov Models\n",
    "import tensorflow as tf\n",
    "import tensorflow_probability as tfp\n",
    "\n",
    "# A simple Weather Prediction Model system with the following pre-defined rules:\n",
    "# 1. Cold days should be ecnoded as 0 while hot days as 1\n",
    "# 2. The first day in the sequence has a chance of being 80% cold.\n",
    "# 3. A cold day has a 30% chance of being follwed by a hot day.\n",
    "# 4. A hot day has a 20% chance of being followed by a cold day.\n",
    "# 5. On each day, temp is distrivuted between mean and standard deviation of 0 and 5 on cold days\n",
    "# while having a 10 and 15 on a hot day"
   ]
  },
  {
   "cell_type": "code",
   "execution_count": 2,
   "metadata": {},
   "outputs": [
    {
     "name": "stderr",
     "output_type": "stream",
     "text": [
      "2023-03-18 22:30:55.395412: I tensorflow/core/platform/cpu_feature_guard.cc:193] This TensorFlow binary is optimized with oneAPI Deep Neural Network Library (oneDNN) to use the following CPU instructions in performance-critical operations:  AVX2 FMA\n",
      "To enable them in other operations, rebuild TensorFlow with the appropriate compiler flags.\n"
     ]
    }
   ],
   "source": [
    "# Setting up the Probability distribution for the Model\n",
    "tfd = tfp.distributions\n",
    "# converted the % probability into decimal\n",
    "initial_distribution = tfd.Categorical(probs =[0.8, 0.2]) #referring to no. 2 above\n",
    "transtition_distribution = tfd.Categorical(probs=[[0.7, 0.3], # referring to no. 3 \n",
    "                                                  [0.2, 0.8]]) # referring to no. 4 \n",
    "observation_distribution = tfd.Normal(loc=[0., 15.], scale =[5., 10.]) # referring to no. 5 \n",
    "# loc argument here represent the mean and the scale represents standard devaition"
   ]
  },
  {
   "cell_type": "code",
   "execution_count": 6,
   "metadata": {},
   "outputs": [],
   "source": [
    "# Building the Model\n",
    "model = tfd.HiddenMarkovModel(\n",
    "    initial_distribution=initial_distribution,\n",
    "    transition_distribution=transtition_distribution,\n",
    "    observation_distribution=observation_distribution,\n",
    "    num_steps=7)"
   ]
  },
  {
   "cell_type": "code",
   "execution_count": null,
   "metadata": {},
   "outputs": [],
   "source": [
    "# This calculates the Probability\n",
    "mean = model.mean()\n"
   ]
  }
 ],
 "metadata": {
  "kernelspec": {
   "display_name": "env",
   "language": "python",
   "name": "python3"
  },
  "language_info": {
   "codemirror_mode": {
    "name": "ipython",
    "version": 3
   },
   "file_extension": ".py",
   "mimetype": "text/x-python",
   "name": "python",
   "nbconvert_exporter": "python",
   "pygments_lexer": "ipython3",
   "version": "3.7.9"
  },
  "orig_nbformat": 4
 },
 "nbformat": 4,
 "nbformat_minor": 2
}
